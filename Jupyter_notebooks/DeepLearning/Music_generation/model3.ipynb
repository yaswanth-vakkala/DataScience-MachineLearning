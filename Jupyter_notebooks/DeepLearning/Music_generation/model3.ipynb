{
 "cells": [
  {
   "cell_type": "code",
   "execution_count": 21,
   "id": "93d8ba99",
   "metadata": {},
   "outputs": [],
   "source": [
    "import os\n",
    "import numpy as np\n",
    "import music21 as m21"
   ]
  },
  {
   "cell_type": "code",
   "execution_count": 14,
   "id": "f515e677",
   "metadata": {},
   "outputs": [],
   "source": [
    "DATASET_PATH = '../data/music_midi_dataset/'"
   ]
  },
  {
   "cell_type": "code",
   "execution_count": 9,
   "id": "c6a88c06",
   "metadata": {},
   "outputs": [],
   "source": [
    "def load_files(dataset_path):\n",
    "    songs = []\n",
    "    for path, subdirs, files in os.walk(dataset_path):\n",
    "        for file in files:\n",
    "            if file[-4:] == \"midi\" or file[-3:] == \"mid\":\n",
    "                song = m21.converter.parse(os.path.join(path, file))\n",
    "                songs.append(song)\n",
    "    return songs"
   ]
  },
  {
   "cell_type": "code",
   "execution_count": 4,
   "id": "6c909acd",
   "metadata": {},
   "outputs": [],
   "source": [
    "def read_midi(file):\n",
    "    print(\"Loading Music File:\",file)    \n",
    "    notes=[]\n",
    "    notes_to_parse = file.recurse()\n",
    "    \n",
    "    for element in notes_to_parse:\n",
    "        if isinstance(element, note.Note):\n",
    "            notes.append(str(element.pitch))  \n",
    "        elif isinstance(element, chord.Chord):\n",
    "            notes.append('.'.join(str(n) for n in element.normalOrder))\n",
    "    \n",
    "    return np.array(notes)"
   ]
  },
  {
   "cell_type": "code",
   "execution_count": 17,
   "id": "0dda6cef",
   "metadata": {},
   "outputs": [],
   "source": [
    "files=[i for i in os.listdir(DATASET_PATH+'test/') if i.endswith(\".midi\")]"
   ]
  },
  {
   "cell_type": "code",
   "execution_count": 19,
   "id": "0dcae864",
   "metadata": {},
   "outputs": [
    {
     "name": "stdout",
     "output_type": "stream",
     "text": [
      "12\n"
     ]
    }
   ],
   "source": [
    "print(len(files))"
   ]
  },
  {
   "cell_type": "code",
   "execution_count": 28,
   "id": "e9a294f9",
   "metadata": {},
   "outputs": [],
   "source": [
    "#defining function to read MIDI files\n",
    "def read_midi(file):\n",
    "    \n",
    "    print(\"Loading Music File:\",file)\n",
    "    \n",
    "    notes=[]\n",
    "    notes_to_parse = None\n",
    "    \n",
    "    #parsing a midi file\n",
    "    midi = m21.converter.parse(file)\n",
    "  \n",
    "    #grouping based on different instruments\n",
    "    s2 = m21.instrument.partitionByInstrument(midi)\n",
    "\n",
    "    #Looping over all the instruments\n",
    "    for part in s2.parts:\n",
    "    \n",
    "        #select elements of only piano\n",
    "        if 'Piano' in str(part): \n",
    "        \n",
    "            notes_to_parse = part.recurse() \n",
    "      \n",
    "            #finding whether a particular element is note or a chord\n",
    "            for element in notes_to_parse:\n",
    "                \n",
    "                #note\n",
    "                if isinstance(element, m21.note.Note):\n",
    "                    notes.append(str(element.pitch))\n",
    "                \n",
    "                #chord\n",
    "                elif isinstance(element, m21.chord.Chord):\n",
    "                    notes.append('.'.join(str(n) for n in element.normalOrder))\n",
    "\n",
    "    return np.array(notes)"
   ]
  },
  {
   "cell_type": "code",
   "execution_count": 30,
   "id": "7b45a578",
   "metadata": {},
   "outputs": [
    {
     "name": "stdout",
     "output_type": "stream",
     "text": [
      "Loading Music File: ../data/music_midi_dataset/test/MIDI-Unprocessed_Chamber2_MID--AUDIO_09_R3_2018_wav--1.midi\n",
      "Loading Music File: ../data/music_midi_dataset/test/MIDI-Unprocessed_Chamber3_MID--AUDIO_10_R3_2018_wav--1.midi\n",
      "Loading Music File: ../data/music_midi_dataset/test/MIDI-Unprocessed_Chamber3_MID--AUDIO_10_R3_2018_wav--2.midi\n",
      "Loading Music File: ../data/music_midi_dataset/test/MIDI-Unprocessed_Chamber4_MID--AUDIO_11_R3_2018_wav--1.midi\n",
      "Loading Music File: ../data/music_midi_dataset/test/MIDI-Unprocessed_Chamber5_MID--AUDIO_18_R3_2018_wav--1.midi\n",
      "Loading Music File: ../data/music_midi_dataset/test/MIDI-Unprocessed_Chamber6_MID--AUDIO_20_R3_2018_wav--1.midi\n",
      "Loading Music File: ../data/music_midi_dataset/test/MIDI-Unprocessed_Chamber6_MID--AUDIO_20_R3_2018_wav--2.midi\n",
      "Loading Music File: ../data/music_midi_dataset/test/MIDI-Unprocessed_Recital1-3_MID--AUDIO_01_R1_2018_wav--1.midi\n",
      "Loading Music File: ../data/music_midi_dataset/test/MIDI-Unprocessed_Recital1-3_MID--AUDIO_01_R1_2018_wav--2.midi\n",
      "Loading Music File: ../data/music_midi_dataset/test/MIDI-Unprocessed_Recital1-3_MID--AUDIO_01_R1_2018_wav--3.midi\n",
      "Loading Music File: ../data/music_midi_dataset/test/MIDI-Unprocessed_Recital1-3_MID--AUDIO_01_R1_2018_wav--4.midi\n",
      "Loading Music File: ../data/music_midi_dataset/test/MIDI-Unprocessed_Recital1-3_MID--AUDIO_02_R1_2018_wav--1.midi\n"
     ]
    }
   ],
   "source": [
    "notes_array = [read_midi(DATASET_PATH+'test/'+i) for i in files]"
   ]
  },
  {
   "cell_type": "code",
   "execution_count": 32,
   "id": "22f978c3",
   "metadata": {},
   "outputs": [
    {
     "name": "stdout",
     "output_type": "stream",
     "text": [
      "12\n"
     ]
    }
   ],
   "source": [
    "print(len(notes_array))"
   ]
  },
  {
   "cell_type": "code",
   "execution_count": 33,
   "id": "0021e0d8",
   "metadata": {},
   "outputs": [
    {
     "name": "stdout",
     "output_type": "stream",
     "text": [
      "958\n"
     ]
    }
   ],
   "source": [
    "notes_ = [element for note_ in notes_array for element in note_]\n",
    "unique_notes = list(set(notes_))\n",
    "print(len(unique_notes))"
   ]
  },
  {
   "cell_type": "code",
   "execution_count": 34,
   "id": "25923edd",
   "metadata": {},
   "outputs": [
    {
     "data": {
      "text/plain": [
       "(array([824.,  45.,  34.,  20.,  13.,   7.,   3.,   5.,   5.,   2.]),\n",
       " array([1.0000e+00, 1.2540e+02, 2.4980e+02, 3.7420e+02, 4.9860e+02,\n",
       "        6.2300e+02, 7.4740e+02, 8.7180e+02, 9.9620e+02, 1.1206e+03,\n",
       "        1.2450e+03]),\n",
       " <BarContainer object of 10 artists>)"
      ]
     },
     "execution_count": 34,
     "metadata": {},
     "output_type": "execute_result"
    },
    {
     "data": {
      "image/png": "[encoded data removed]",
      "text/plain": [
       "<Figure size 500x500 with 1 Axes>"
      ]
     },
     "metadata": {
      "image/png": {
       "height": 428,
       "width": 443
      }
     },
     "output_type": "display_data"
    }
   ],
   "source": [
    "from collections import Counter\n",
    "\n",
    "#computing frequency of each note\n",
    "freq = dict(Counter(notes_))\n",
    "\n",
    "#library for visualiation\n",
    "import matplotlib.pyplot as plt\n",
    "\n",
    "#consider only the frequencies\n",
    "no=[count for _,count in freq.items()]\n",
    "\n",
    "#set the figure size\n",
    "plt.figure(figsize=(5,5))\n",
    "\n",
    "#plot\n",
    "plt.hist(no)"
   ]
  },
  {
   "cell_type": "code",
   "execution_count": 35,
   "id": "c246e7d5",
   "metadata": {},
   "outputs": [
    {
     "name": "stdout",
     "output_type": "stream",
     "text": [
      "172\n"
     ]
    }
   ],
   "source": [
    "frequent_notes = [note_ for note_, count in freq.items() if count>=50]\n",
    "print(len(frequent_notes))"
   ]
  },
  {
   "cell_type": "code",
   "execution_count": 39,
   "id": "3a7351a2",
   "metadata": {},
   "outputs": [
    {
     "data": {
      "text/plain": [
       "12"
      ]
     },
     "execution_count": 39,
     "metadata": {},
     "output_type": "execute_result"
    }
   ],
   "source": [
    "new_music=[]\n",
    "\n",
    "for notes in notes_array:\n",
    "    temp=[]\n",
    "    for note_ in notes:\n",
    "        if note_ in frequent_notes:\n",
    "            temp.append(note_)            \n",
    "    new_music.append(temp)\n",
    "len(new_music)"
   ]
  },
  {
   "cell_type": "code",
   "execution_count": 40,
   "id": "5fe0fabd",
   "metadata": {},
   "outputs": [],
   "source": [
    "no_of_timesteps = 32\n",
    "x = []\n",
    "y = []\n",
    "\n",
    "for note_ in new_music:\n",
    "    for i in range(0, len(note_) - no_of_timesteps, 1):\n",
    "        \n",
    "        #preparing input and output sequences\n",
    "        input_ = note_[i:i + no_of_timesteps]\n",
    "        output = note_[i + no_of_timesteps]\n",
    "        \n",
    "        x.append(input_)\n",
    "        y.append(output)\n",
    "        \n",
    "x=np.array(x)\n",
    "y=np.array(y)"
   ]
  },
  {
   "cell_type": "code",
   "execution_count": 41,
   "id": "736dc8c7",
   "metadata": {},
   "outputs": [],
   "source": [
    "unique_x = list(set(x.ravel()))\n",
    "x_note_to_int = dict((note_, number) for number, note_ in enumerate(unique_x))"
   ]
  },
  {
   "cell_type": "code",
   "execution_count": 42,
   "id": "27d02540",
   "metadata": {},
   "outputs": [],
   "source": [
    "#preparing input sequences\n",
    "x_seq=[]\n",
    "for i in x:\n",
    "    temp=[]\n",
    "    for j in i:\n",
    "        #assigning unique integer to every note\n",
    "        temp.append(x_note_to_int[j])\n",
    "    x_seq.append(temp)\n",
    "    \n",
    "x_seq = np.array(x_seq)"
   ]
  },
  {
   "cell_type": "code",
   "execution_count": 43,
   "id": "d21c9682",
   "metadata": {},
   "outputs": [],
   "source": [
    "unique_y = list(set(y))\n",
    "y_note_to_int = dict((note_, number) for number, note_ in enumerate(unique_y)) \n",
    "y_seq=np.array([y_note_to_int[i] for i in y])"
   ]
  },
  {
   "cell_type": "code",
   "execution_count": 44,
   "id": "c896dbbc",
   "metadata": {},
   "outputs": [],
   "source": [
    "from sklearn.model_selection import train_test_split\n",
    "x_tr, x_val, y_tr, y_val = train_test_split(x_seq,y_seq,test_size=0.2,random_state=0)"
   ]
  },
  {
   "cell_type": "code",
   "execution_count": 45,
   "id": "cc21f28a",
   "metadata": {},
   "outputs": [],
   "source": [
    "def lstm():\n",
    "  model = Sequential()\n",
    "  model.add(LSTM(128,return_sequences=True))\n",
    "  model.add(LSTM(128))\n",
    "  model.add(Dense(256))\n",
    "  model.add(Activation('relu'))\n",
    "  model.add(Dense(n_vocab))\n",
    "  model.add(Activation('softmax'))\n",
    "  model.compile(loss='sparse_categorical_crossentropy', optimizer='adam')\n",
    "  return model"
   ]
  },
  {
   "cell_type": "code",
   "execution_count": 46,
   "id": "7ba73202",
   "metadata": {},
   "outputs": [
    {
     "name": "stdout",
     "output_type": "stream",
     "text": [
      "Model: \"sequential\"\n",
      "_________________________________________________________________\n",
      " Layer (type)                Output Shape              Param #   \n",
      "=================================================================\n",
      " embedding (Embedding)       (None, 32, 100)           17200     \n",
      "                                                                 \n",
      " conv1d (Conv1D)             (None, 32, 64)            19264     \n",
      "                                                                 \n",
      " dropout (Dropout)           (None, 32, 64)            0         \n",
      "                                                                 \n",
      " max_pooling1d (MaxPooling1  (None, 16, 64)            0         \n",
      " D)                                                              \n",
      "                                                                 \n",
      " conv1d_1 (Conv1D)           (None, 16, 128)           24704     \n",
      "                                                                 \n",
      " dropout_1 (Dropout)         (None, 16, 128)           0         \n",
      "                                                                 \n",
      " max_pooling1d_1 (MaxPoolin  (None, 8, 128)            0         \n",
      " g1D)                                                            \n",
      "                                                                 \n",
      " conv1d_2 (Conv1D)           (None, 8, 256)            98560     \n",
      "                                                                 \n",
      " dropout_2 (Dropout)         (None, 8, 256)            0         \n",
      "                                                                 \n",
      " max_pooling1d_2 (MaxPoolin  (None, 4, 256)            0         \n",
      " g1D)                                                            \n",
      "                                                                 \n",
      " global_max_pooling1d (Glob  (None, 256)               0         \n",
      " alMaxPooling1D)                                                 \n",
      "                                                                 \n",
      " dense (Dense)               (None, 256)               65792     \n",
      "                                                                 \n",
      " dense_1 (Dense)             (None, 172)               44204     \n",
      "                                                                 \n",
      "=================================================================\n",
      "Total params: 269724 (1.03 MB)\n",
      "Trainable params: 269724 (1.03 MB)\n",
      "Non-trainable params: 0 (0.00 Byte)\n",
      "_________________________________________________________________\n"
     ]
    }
   ],
   "source": [
    "from keras.layers import *\n",
    "from keras.models import *\n",
    "from keras.callbacks import *\n",
    "import keras.backend as K\n",
    "\n",
    "K.clear_session()\n",
    "model = Sequential()\n",
    "    \n",
    "#embedding layer\n",
    "model.add(Embedding(len(unique_x), 100, input_length=32,trainable=True)) \n",
    "\n",
    "model.add(Conv1D(64,3, padding='causal',activation='relu'))\n",
    "model.add(Dropout(0.2))\n",
    "model.add(MaxPool1D(2))\n",
    "    \n",
    "model.add(Conv1D(128,3,activation='relu',dilation_rate=2,padding='causal'))\n",
    "model.add(Dropout(0.2))\n",
    "model.add(MaxPool1D(2))\n",
    "\n",
    "model.add(Conv1D(256,3,activation='relu',dilation_rate=4,padding='causal'))\n",
    "model.add(Dropout(0.2))\n",
    "model.add(MaxPool1D(2))\n",
    "          \n",
    "#model.add(Conv1D(256,5,activation='relu'))    \n",
    "model.add(GlobalMaxPool1D())\n",
    "    \n",
    "model.add(Dense(256, activation='relu'))\n",
    "model.add(Dense(len(unique_y), activation='softmax'))\n",
    "    \n",
    "model.compile(loss='sparse_categorical_crossentropy', optimizer='adam')\n",
    "\n",
    "model.summary()"
   ]
  },
  {
   "cell_type": "code",
   "execution_count": 47,
   "id": "0bd6c628",
   "metadata": {},
   "outputs": [],
   "source": [
    "mc=ModelCheckpoint('best_model.h5', monitor='val_loss', mode='min', save_best_only=True,verbose=1)"
   ]
  },
  {
   "cell_type": "code",
   "execution_count": 49,
   "id": "49857852",
   "metadata": {},
   "outputs": [
    {
     "name": "stdout",
     "output_type": "stream",
     "text": [
      "Epoch 1/50\n",
      "354/354 [==============================] - 8s 24ms/step - loss: 4.1907 - val_loss: 4.3124\n",
      "Epoch 2/50\n",
      "354/354 [==============================] - 9s 24ms/step - loss: 4.1344 - val_loss: 4.2684\n",
      "Epoch 3/50\n",
      "354/354 [==============================] - 9s 24ms/step - loss: 4.0857 - val_loss: 4.2339\n",
      "Epoch 4/50\n",
      "354/354 [==============================] - 9s 25ms/step - loss: 4.0433 - val_loss: 4.2027\n",
      "Epoch 5/50\n",
      "354/354 [==============================] - 9s 27ms/step - loss: 4.0065 - val_loss: 4.1766\n",
      "Epoch 6/50\n",
      "354/354 [==============================] - 9s 27ms/step - loss: 3.9706 - val_loss: 4.1864\n",
      "Epoch 7/50\n",
      "354/354 [==============================] - 9s 27ms/step - loss: 3.9394 - val_loss: 4.1503\n",
      "Epoch 8/50\n",
      "354/354 [==============================] - 9s 26ms/step - loss: 3.9071 - val_loss: 4.1476\n",
      "Epoch 9/50\n",
      "354/354 [==============================] - 11s 31ms/step - loss: 3.8800 - val_loss: 4.1419\n",
      "Epoch 10/50\n",
      "354/354 [==============================] - 11s 30ms/step - loss: 3.8502 - val_loss: 4.1161\n",
      "Epoch 11/50\n",
      "354/354 [==============================] - 10s 27ms/step - loss: 3.8248 - val_loss: 4.1131\n",
      "Epoch 12/50\n",
      "354/354 [==============================] - 11s 30ms/step - loss: 3.7953 - val_loss: 4.1097\n",
      "Epoch 13/50\n",
      "354/354 [==============================] - 10s 28ms/step - loss: 3.7692 - val_loss: 4.1077\n",
      "Epoch 14/50\n",
      "354/354 [==============================] - 10s 28ms/step - loss: 3.7456 - val_loss: 4.0880\n",
      "Epoch 15/50\n",
      "354/354 [==============================] - 10s 29ms/step - loss: 3.7257 - val_loss: 4.0928\n",
      "Epoch 16/50\n",
      "354/354 [==============================] - 10s 28ms/step - loss: 3.7018 - val_loss: 4.0849\n",
      "Epoch 17/50\n",
      "354/354 [==============================] - 10s 28ms/step - loss: 3.6809 - val_loss: 4.0784\n",
      "Epoch 18/50\n",
      "354/354 [==============================] - 10s 28ms/step - loss: 3.6576 - val_loss: 4.0777\n",
      "Epoch 19/50\n",
      "354/354 [==============================] - 9s 27ms/step - loss: 3.6405 - val_loss: 4.0817\n",
      "Epoch 20/50\n",
      "354/354 [==============================] - 9s 26ms/step - loss: 3.6213 - val_loss: 4.0792\n",
      "Epoch 21/50\n",
      "354/354 [==============================] - 10s 27ms/step - loss: 3.6034 - val_loss: 4.0781\n",
      "Epoch 22/50\n",
      "354/354 [==============================] - 10s 27ms/step - loss: 3.5870 - val_loss: 4.0800\n",
      "Epoch 23/50\n",
      "354/354 [==============================] - 10s 29ms/step - loss: 3.5678 - val_loss: 4.0752\n",
      "Epoch 24/50\n",
      "354/354 [==============================] - 10s 29ms/step - loss: 3.5500 - val_loss: 4.0695\n",
      "Epoch 25/50\n",
      "354/354 [==============================] - 10s 29ms/step - loss: 3.5376 - val_loss: 4.0680\n",
      "Epoch 26/50\n",
      "354/354 [==============================] - 10s 28ms/step - loss: 3.5251 - val_loss: 4.0670\n",
      "Epoch 27/50\n",
      "354/354 [==============================] - 10s 29ms/step - loss: 3.5086 - val_loss: 4.0682\n",
      "Epoch 28/50\n",
      "354/354 [==============================] - 10s 28ms/step - loss: 3.4929 - val_loss: 4.0672\n",
      "Epoch 29/50\n",
      "354/354 [==============================] - 10s 27ms/step - loss: 3.4793 - val_loss: 4.0723\n",
      "Epoch 30/50\n",
      "354/354 [==============================] - 10s 28ms/step - loss: 3.4682 - val_loss: 4.0695\n",
      "Epoch 31/50\n",
      "354/354 [==============================] - 10s 28ms/step - loss: 3.4593 - val_loss: 4.0681\n",
      "Epoch 32/50\n",
      "354/354 [==============================] - 10s 30ms/step - loss: 3.4460 - val_loss: 4.0758\n",
      "Epoch 33/50\n",
      "354/354 [==============================] - 11s 30ms/step - loss: 3.4287 - val_loss: 4.0788\n",
      "Epoch 34/50\n",
      "354/354 [==============================] - 11s 31ms/step - loss: 3.4215 - val_loss: 4.0774\n",
      "Epoch 35/50\n",
      "354/354 [==============================] - 11s 32ms/step - loss: 3.4103 - val_loss: 4.0790\n",
      "Epoch 36/50\n",
      "354/354 [==============================] - 12s 33ms/step - loss: 3.4053 - val_loss: 4.0873\n",
      "Epoch 37/50\n",
      "354/354 [==============================] - 12s 34ms/step - loss: 3.3940 - val_loss: 4.0834\n",
      "Epoch 38/50\n",
      "354/354 [==============================] - 13s 36ms/step - loss: 3.3790 - val_loss: 4.0824\n",
      "Epoch 39/50\n",
      "354/354 [==============================] - 13s 36ms/step - loss: 3.3683 - val_loss: 4.0889\n",
      "Epoch 40/50\n",
      "354/354 [==============================] - 13s 36ms/step - loss: 3.3642 - val_loss: 4.0820\n",
      "Epoch 41/50\n",
      "354/354 [==============================] - 12s 34ms/step - loss: 3.3476 - val_loss: 4.0868\n",
      "Epoch 42/50\n",
      "354/354 [==============================] - 12s 35ms/step - loss: 3.3425 - val_loss: 4.0945\n",
      "Epoch 43/50\n",
      "354/354 [==============================] - 12s 35ms/step - loss: 3.3377 - val_loss: 4.0826\n",
      "Epoch 44/50\n",
      "354/354 [==============================] - 12s 34ms/step - loss: 3.3244 - val_loss: 4.0924\n",
      "Epoch 45/50\n",
      "354/354 [==============================] - 12s 35ms/step - loss: 3.3169 - val_loss: 4.0872\n",
      "Epoch 46/50\n",
      "354/354 [==============================] - 13s 35ms/step - loss: 3.3046 - val_loss: 4.1011\n",
      "Epoch 47/50\n",
      "354/354 [==============================] - 12s 35ms/step - loss: 3.3029 - val_loss: 4.1033\n",
      "Epoch 48/50\n",
      "354/354 [==============================] - 12s 34ms/step - loss: 3.2928 - val_loss: 4.0886\n",
      "Epoch 49/50\n",
      "354/354 [==============================] - 13s 37ms/step - loss: 3.2830 - val_loss: 4.0952\n",
      "Epoch 50/50\n",
      "354/354 [==============================] - 13s 37ms/step - loss: 3.2782 - val_loss: 4.0927\n"
     ]
    }
   ],
   "source": [
    "history = model.fit(np.array(x_tr),np.array(y_tr),batch_size=128,epochs=50, validation_data=(np.array(x_val),np.array(y_val)),verbose=1)"
   ]
  },
  {
   "cell_type": "code",
   "execution_count": null,
   "id": "076c2852",
   "metadata": {},
   "outputs": [],
   "source": [
    "from keras.models import load_model\n",
    "model = load_model('best_model.h5')"
   ]
  },
  {
   "cell_type": "code",
   "execution_count": 50,
   "id": "2d610aa2",
   "metadata": {},
   "outputs": [
    {
     "name": "stdout",
     "output_type": "stream",
     "text": [
      "1/1 [==============================] - 0s 236ms/step\n",
      "1/1 [==============================] - 0s 18ms/step\n",
      "1/1 [==============================] - 0s 18ms/step\n",
      "1/1 [==============================] - 0s 17ms/step\n",
      "1/1 [==============================] - 0s 18ms/step\n",
      "1/1 [==============================] - 0s 23ms/step\n",
      "1/1 [==============================] - 0s 36ms/step\n",
      "1/1 [==============================] - 0s 22ms/step\n",
      "1/1 [==============================] - 0s 19ms/step\n",
      "1/1 [==============================] - 0s 19ms/step\n",
      "[162, 162, 162, 162, 162, 162, 162, 162, 162, 162]\n"
     ]
    }
   ],
   "source": [
    "import random\n",
    "ind = np.random.randint(0,len(x_val)-1)\n",
    "\n",
    "random_music = x_val[ind]\n",
    "\n",
    "predictions=[]\n",
    "for i in range(10):\n",
    "\n",
    "    random_music = random_music.reshape(1,no_of_timesteps)\n",
    "\n",
    "    prob  = model.predict(random_music)[0]\n",
    "    y_pred= np.argmax(prob,axis=0)\n",
    "    predictions.append(y_pred)\n",
    "\n",
    "    random_music = np.insert(random_music[0],len(random_music[0]),y_pred)\n",
    "    random_music = random_music[1:]\n",
    "    \n",
    "print(predictions)"
   ]
  },
  {
   "cell_type": "code",
   "execution_count": 51,
   "id": "497dc59c",
   "metadata": {},
   "outputs": [],
   "source": [
    "x_int_to_note = dict((number, note_) for number, note_ in enumerate(unique_x)) \n",
    "predicted_notes = [x_int_to_note[i] for i in predictions]"
   ]
  },
  {
   "cell_type": "code",
   "execution_count": 58,
   "id": "a2c2f81f",
   "metadata": {},
   "outputs": [],
   "source": [
    "def convert_to_midi(prediction_output):\n",
    "   \n",
    "    offset = 0\n",
    "    output_notes = []\n",
    "\n",
    "    # create note and chord objects based on the values generated by the model\n",
    "    for pattern in prediction_output:\n",
    "        \n",
    "        # pattern is a chord\n",
    "        if ('.' in pattern) or pattern.isdigit():\n",
    "            notes_in_chord = pattern.split('.')\n",
    "            notes = []\n",
    "            for current_note in notes_in_chord:\n",
    "                \n",
    "                cn=int(current_note)\n",
    "                new_note = m21.note.Note(cn)\n",
    "                new_note.storedInstrument = m21.instrument.Piano()\n",
    "                notes.append(new_note)\n",
    "                \n",
    "            new_chord = m21.chord.Chord(notes)\n",
    "            new_chord.offset = offset\n",
    "            output_notes.append(new_chord)\n",
    "            \n",
    "        # pattern is a note\n",
    "        else:\n",
    "            \n",
    "            new_note = m21.note.Note(pattern)\n",
    "            new_note.offset = offset\n",
    "            new_note.storedInstrument = m21.instrument.Piano()\n",
    "            output_notes.append(new_note)\n",
    "\n",
    "        # increase offset each iteration so that notes do not stack\n",
    "        offset += 1\n",
    "    midi_stream = m21.stream.Stream(output_notes)\n",
    "    midi_stream.write('midi', fp='music.mid')"
   ]
  },
  {
   "cell_type": "code",
   "execution_count": 59,
   "id": "3d7de8d2",
   "metadata": {},
   "outputs": [],
   "source": [
    "convert_to_midi(predicted_notes)"
   ]
  },
  {
   "cell_type": "code",
   "execution_count": null,
   "id": "a1dd3878",
   "metadata": {},
   "outputs": [],
   "source": []
  }
 ],
 "metadata": {
  "kernelspec": {
   "display_name": "Python 3",
   "language": "python",
   "name": "python3"
  },
  "language_info": {
   "codemirror_mode": {
    "name": "ipython",
    "version": 3
   },
   "file_extension": ".py",
   "mimetype": "text/x-python",
   "name": "python",
   "nbconvert_exporter": "python",
   "pygments_lexer": "ipython3",
   "version": "3.9.18"
  }
 },
 "nbformat": 4,
 "nbformat_minor": 5
}
