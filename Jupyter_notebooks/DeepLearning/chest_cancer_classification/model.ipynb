{
 "cells": [
  {
   "cell_type": "code",
   "execution_count": 1,
   "id": "38bbc72b",
   "metadata": {},
   "outputs": [
    {
     "name": "stdout",
     "output_type": "stream",
     "text": [
      "3.11.4 | packaged by Anaconda, Inc. | (main, Jul  5 2023, 13:47:18) [MSC v.1916 64 bit (AMD64)]\n"
     ]
    }
   ],
   "source": [
    "import sys\n",
    "print(sys.version)"
   ]
  },
  {
   "cell_type": "code",
   "execution_count": 2,
   "id": "9c1f6e18",
   "metadata": {},
   "outputs": [],
   "source": [
    "import numpy as np\n",
    "np.random.seed(800)\n",
    "import matplotlib.pyplot as plt\n",
    "import os\n",
    "import cv2\n",
    "from PIL import Image\n",
    "import tensorflow as tfa\n",
    "from tensorflow import keras\n",
    "os.environ['KERAS_BACKEND'] = 'tensorflow'\n",
    "from sklearn.model_selection import train_test_split\n",
    "from keras.utils import to_categorical"
   ]
  },
  {
   "cell_type": "code",
   "execution_count": 3,
   "id": "5207c924",
   "metadata": {},
   "outputs": [],
   "source": [
    "image_directory = '../data/ct_scan_dataset/'\n",
    "SIZE = 512\n",
    "dataset = []\n",
    "label = []"
   ]
  },
  {
   "cell_type": "code",
   "execution_count": null,
   "id": "e8568fff",
   "metadata": {},
   "outputs": [],
   "source": [
    "cancerous_images = os.listdir(image_directory + 'cancerous/')\n",
    "for i, image_name in enumerate(cancerous_images):\n",
    "     if (image_name.split('.')[1] == 'jpg'):\n",
    "        image = cv2.imread(image_directory + 'cancerous/' + image_name)\n",
    "        image = Image.fromarray(image, 'RGB')\n",
    "        image = image.resize((SIZE, SIZE))\n",
    "        dataset.append(np.array(image))\n",
    "        label.append(0)"
   ]
  },
  {
   "cell_type": "code",
   "execution_count": null,
   "id": "490a37d5",
   "metadata": {},
   "outputs": [],
   "source": [
    "non_cancerous_images = os.listdir(image_directory + 'non_cancerous/')\n",
    "for i, image_name in enumerate(non_cancerous_images):\n",
    "     if (image_name.split('.')[1] == 'jpg'):\n",
    "        image = cv2.imread(image_directory + 'non_cancerous/' + image_name)\n",
    "        image = Image.fromarray(image, 'RGB')\n",
    "        image = image.resize((SIZE, SIZE))\n",
    "        dataset.append(np.array(image))\n",
    "        label.append(1)"
   ]
  },
  {
   "cell_type": "code",
   "execution_count": null,
   "id": "0b083920",
   "metadata": {},
   "outputs": [],
   "source": [
    "INPUT_SHAPE = (SIZE, SIZE, 3)\n",
    "inp = keras.layers.Input(shape=INPUT_SHAPE)\n",
    "\n",
    "conv1 = keras.layers.Conv2D(32, kernel_size=(3,3), activation='relu', padding='same')(inp)\n",
    "pool1 = keras.layers.MaxPooling2D(pool_size= (2,2))(conv1)\n",
    "norm1 = keras.layers.BatchNormalization(axis = -1)(pool1)\n",
    "drop1 = keras.layers.Dropout(rate=0.2)(norm1)\n",
    "\n",
    "conv2 = keras.layers.Conv2D(32, kernel_size=(3, 3), activation='relu', padding='same')(drop1)\n",
    "pool2 = keras.layers.MaxPooling2D(pool_size=(2, 2))(conv2)\n",
    "norm2 = keras.layers.BatchNormalization(axis = -1)(pool2)\n",
    "drop2 = keras.layers.Dropout(rate=0.2)(norm2)\n",
    "\n",
    "flat = keras.layers.Flatten()(drop2)\n",
    "\n",
    "hidden1 = keras.layers.Dense(512, activation='relu')(flat)\n",
    "norm3 = keras.layers.BatchNormalization(axis = -1)(hidden1)\n",
    "drop3 = keras.layers.Dropout(rate=0.2)(norm3)\n",
    "\n",
    "hidden2 = keras.layers.Dense(256, activation='relu')(drop3)\n",
    "norm4 = keras.layers.BatchNormalization(axis = -1)(hidden2)\n",
    "drop4 = keras.layers.Dropout(rate=0.2)(norm4)\n",
    "\n",
    "out = keras.layers.Dense(2, activation='sigmoid')(drop4)\n",
    "\n",
    "model = keras.Model(inputs = inp, outputs= out)\n",
    "model.compile(optimizer='adam',\n",
    "                loss='categorical_crossentropy',\n",
    "                metrics=['accuracy'])\n",
    "print(model.summary())"
   ]
  },
  {
   "cell_type": "code",
   "execution_count": null,
   "id": "8b3dfd58",
   "metadata": {},
   "outputs": [],
   "source": [
    "X_train, X_test, y_train, y_test = train_test_split(dataset, to_categorical(np.array(label)), test_size = 0.20, random_state = 0)"
   ]
  },
  {
   "cell_type": "code",
   "execution_count": null,
   "id": "e618f257",
   "metadata": {},
   "outputs": [],
   "source": [
    "train = model.fit(np.array(X_train), \n",
    "                         y_train, \n",
    "                         batch_size = 64, \n",
    "                         verbose = 1, \n",
    "                         epochs = 5,\n",
    "                         validation_split = 0.1,\n",
    "                         shuffle = False\n",
    "                     )"
   ]
  },
  {
   "cell_type": "code",
   "execution_count": null,
   "id": "f69d5507",
   "metadata": {},
   "outputs": [],
   "source": [
    "print(\"Test_Accuracy: {:.2f}%\".format(model.evaluate(np.array(X_test), np.array(y_test))[1]*100))"
   ]
  },
  {
   "cell_type": "code",
   "execution_count": null,
   "id": "3770a67b",
   "metadata": {},
   "outputs": [],
   "source": []
  }
 ],
 "metadata": {
  "kernelspec": {
   "display_name": "cenv",
   "language": "python",
   "name": "cenv"
  },
  "language_info": {
   "codemirror_mode": {
    "name": "ipython",
    "version": 3
   },
   "file_extension": ".py",
   "mimetype": "text/x-python",
   "name": "python",
   "nbconvert_exporter": "python",
   "pygments_lexer": "ipython3",
   "version": "3.11.4"
  }
 },
 "nbformat": 4,
 "nbformat_minor": 5
}
